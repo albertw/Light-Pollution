{
 "cells": [
  {
   "cell_type": "markdown",
   "metadata": {},
   "source": [
    "# Work out the number of stars in a given circular are a of sky. "
   ]
  },
  {
   "cell_type": "code",
   "execution_count": 1,
   "metadata": {},
   "outputs": [
    {
     "name": "stdout",
     "output_type": "stream",
     "text": [
      "gzip was not found on your system! You should solve this issue for astroquery.eso to be at its best!\n",
      "On POSIX system: make sure gzip is installed and in your path!On Windows: same for 7-zip (http://www.7-zip.org)!\n"
     ]
    }
   ],
   "source": [
    "from astropy import units as u\n",
    "from math import sqrt, pi\n",
    "# https://docs.astropy.org/en/stable/api/astropy.coordinates.SkyCoord.html\n",
    "from astropy.coordinates import SkyCoord\n",
    "# https://astroquery.readthedocs.io/en/latest/vizier/vizier.html\n",
    "from astroquery.vizier import Vizier\n"
   ]
  },
  {
   "cell_type": "code",
   "execution_count": 2,
   "metadata": {},
   "outputs": [],
   "source": [
    "# get radius of steradian in degress\n",
    "\n",
    "def rsterd(st):\n",
    "    return sqrt(0.09/pi) * (180/pi)\n",
    "\n",
    "r = rsterd(0.09)\n",
    "\n",
    "# Is 0.09 steradians rouhly a circle of 9.6 degrees radius? Think so..."
   ]
  },
  {
   "cell_type": "code",
   "execution_count": 3,
   "metadata": {},
   "outputs": [],
   "source": [
    "# I/259 is the Tyco-2 catalog\n",
    "# the +_r adds a column to tell us how far the star is from the target\n",
    "\n",
    "v = Vizier(columns=[\"*\", \"+_r\"], catalog=\"I/259\")\n",
    "\n",
    "# Fow limit needs to be set to -1 as otherwise it's limited to 50 results\n",
    "v.ROW_LIMIT = -1\n",
    "\n",
    "# We can query about a named object:\n",
    "result = v.query_region(\"M1\", radius='{0}d'.format(r))\n",
    "\n",
    "# Or around a coordinate (SkyCoord can handle hms or decimals):\n",
    "result = v.query_region(SkyCoord('0h39m15.9s', '0d53m17.016s', frame='icrs'), \n",
    "                        radius='{0}d'.format(r))\n"
   ]
  },
  {
   "cell_type": "code",
   "execution_count": 4,
   "metadata": {},
   "outputs": [
    {
     "data": {
      "text/html": [
       "<i>Table masked=True length=55</i>\n",
       "<table id=\"table1813991730760\" class=\"table-striped table-bordered table-condensed\">\n",
       "<thead><tr><th>_r</th><th>TYC1</th><th>TYC2</th><th>TYC3</th><th>pmRA</th><th>pmDE</th><th>BTmag</th><th>VTmag</th><th>HIP</th><th>RA_ICRS_</th><th>DE_ICRS_</th></tr></thead>\n",
       "<thead><tr><th>deg</th><th></th><th></th><th></th><th>mas / yr</th><th>mas / yr</th><th>mag</th><th>mag</th><th></th><th>deg</th><th>deg</th></tr></thead>\n",
       "<thead><tr><th>float64</th><th>int16</th><th>int16</th><th>uint8</th><th>float32</th><th>float32</th><th>float32</th><th>float32</th><th>int32</th><th>float64</th><th>float64</th></tr></thead>\n",
       "<tr><td>1.422956</td><td>4672</td><td>1254</td><td>1</td><td>-42.0</td><td>-10.3</td><td>8.351</td><td>6.786</td><td>2994</td><td>9.51902139</td><td>-0.50350556</td></tr>\n",
       "<tr><td>1.675217</td><td>4672</td><td>1255</td><td>1</td><td>143.1</td><td>-62.8</td><td>6.450</td><td>5.987</td><td>2787</td><td>8.88648139</td><td>-0.50546722</td></tr>\n",
       "<tr><td>2.289931</td><td>13</td><td>1406</td><td>1</td><td>90.8</td><td>-59.7</td><td>8.188</td><td>6.564</td><td>2954</td><td>9.37684333</td><td>3.13549667</td></tr>\n",
       "<tr><td>2.885532</td><td>4673</td><td>158</td><td>1</td><td>24.4</td><td>-8.5</td><td>8.465</td><td>6.781</td><td>3889</td><td>12.47892750</td><td>-0.22411694</td></tr>\n",
       "<tr><td>3.296559</td><td>4665</td><td>1216</td><td>1</td><td>71.4</td><td>2.9</td><td>7.341</td><td>6.294</td><td>2100</td><td>6.65572306</td><td>-0.04953472</td></tr>\n",
       "<tr><td>3.620363</td><td>3</td><td>1464</td><td>1</td><td>-15.1</td><td>-13.8</td><td>6.825</td><td>5.864</td><td>2006</td><td>6.35090083</td><td>1.93972167</td></tr>\n",
       "<tr><td>3.909202</td><td>15</td><td>1194</td><td>1</td><td>21.7</td><td>-66.0</td><td>7.750</td><td>6.488</td><td>3992</td><td>12.82629972</td><td>3.38516722</td></tr>\n",
       "<tr><td>3.991680</td><td>4674</td><td>1183</td><td>1</td><td>6.7</td><td>-16.2</td><td>6.822</td><td>4.941</td><td>4147</td><td>13.25204417</td><td>-1.14422056</td></tr>\n",
       "<tr><td>4.376820</td><td>6</td><td>1362</td><td>1</td><td>17.7</td><td>1.3</td><td>6.721</td><td>6.872</td><td>2080</td><td>6.56869417</td><td>3.82575611</td></tr>\n",
       "<tr><td>...</td><td>...</td><td>...</td><td>...</td><td>...</td><td>...</td><td>...</td><td>...</td><td>...</td><td>...</td><td>...</td></tr>\n",
       "<tr><td>8.684858</td><td>25</td><td>1379</td><td>1</td><td>--</td><td>--</td><td>5.894</td><td>5.541</td><td>5346</td><td>17.09305778</td><td>5.65020833</td></tr>\n",
       "<tr><td>8.699652</td><td>4681</td><td>2471</td><td>1</td><td>-58.2</td><td>-22.6</td><td>7.789</td><td>6.084</td><td>5594</td><td>17.93142000</td><td>-2.25102806</td></tr>\n",
       "<tr><td>9.081093</td><td>20</td><td>628</td><td>1</td><td>40.8</td><td>2.3</td><td>6.856</td><td>6.721</td><td>5886</td><td>18.89843972</td><td>0.91244833</td></tr>\n",
       "<tr><td>9.081277</td><td>4681</td><td>247</td><td>1</td><td>-14.8</td><td>204.9</td><td>6.202</td><td>5.745</td><td>5833</td><td>18.70491611</td><td>-0.97428167</td></tr>\n",
       "<tr><td>9.155471</td><td>612</td><td>1446</td><td>1</td><td>-79.9</td><td>25.9</td><td>5.479</td><td>4.364</td><td>4906</td><td>15.73605306</td><td>7.89007694</td></tr>\n",
       "<tr><td>9.199438</td><td>4680</td><td>79</td><td>1</td><td>-8.3</td><td>-42.0</td><td>7.871</td><td>6.033</td><td>4346</td><td>13.92667444</td><td>-7.34704889</td></tr>\n",
       "<tr><td>9.273794</td><td>595</td><td>1027</td><td>1</td><td>-26.6</td><td>-16.2</td><td>7.276</td><td>6.223</td><td>1319</td><td>4.14190111</td><td>8.24018750</td></tr>\n",
       "<tr><td>9.482405</td><td>4670</td><td>1076</td><td>1</td><td>36.7</td><td>-29.1</td><td>7.087</td><td>5.953</td><td>840</td><td>2.57854167</td><td>-5.24852111</td></tr>\n",
       "<tr><td>9.495979</td><td>606</td><td>1511</td><td>1</td><td>63.6</td><td>-156.2</td><td>7.947</td><td>6.860</td><td>2695</td><td>8.54483167</td><td>10.29955278</td></tr>\n",
       "<tr><td>9.690924</td><td>599</td><td>1372</td><td>1</td><td>35.9</td><td>-204.4</td><td>6.539</td><td>6.083</td><td>2235</td><td>7.08347167</td><td>10.19033111</td></tr>\n",
       "</table>"
      ],
      "text/plain": [
       "<Table masked=True length=55>\n",
       "   _r     TYC1  TYC2  TYC3   pmRA   ...  VTmag   HIP    RA_ICRS_     DE_ICRS_  \n",
       "  deg                      mas / yr ...   mag             deg          deg     \n",
       "float64  int16 int16 uint8 float32  ... float32 int32   float64      float64   \n",
       "-------- ----- ----- ----- -------- ... ------- ----- ------------ ------------\n",
       "1.422956  4672  1254     1    -42.0 ...   6.786  2994   9.51902139  -0.50350556\n",
       "1.675217  4672  1255     1    143.1 ...   5.987  2787   8.88648139  -0.50546722\n",
       "2.289931    13  1406     1     90.8 ...   6.564  2954   9.37684333   3.13549667\n",
       "2.885532  4673   158     1     24.4 ...   6.781  3889  12.47892750  -0.22411694\n",
       "3.296559  4665  1216     1     71.4 ...   6.294  2100   6.65572306  -0.04953472\n",
       "3.620363     3  1464     1    -15.1 ...   5.864  2006   6.35090083   1.93972167\n",
       "3.909202    15  1194     1     21.7 ...   6.488  3992  12.82629972   3.38516722\n",
       "3.991680  4674  1183     1      6.7 ...   4.941  4147  13.25204417  -1.14422056\n",
       "4.376820     6  1362     1     17.7 ...   6.872  2080   6.56869417   3.82575611\n",
       "     ...   ...   ...   ...      ... ...     ...   ...          ...          ...\n",
       "8.684858    25  1379     1       -- ...   5.541  5346  17.09305778   5.65020833\n",
       "8.699652  4681  2471     1    -58.2 ...   6.084  5594  17.93142000  -2.25102806\n",
       "9.081093    20   628     1     40.8 ...   6.721  5886  18.89843972   0.91244833\n",
       "9.081277  4681   247     1    -14.8 ...   5.745  5833  18.70491611  -0.97428167\n",
       "9.155471   612  1446     1    -79.9 ...   4.364  4906  15.73605306   7.89007694\n",
       "9.199438  4680    79     1     -8.3 ...   6.033  4346  13.92667444  -7.34704889\n",
       "9.273794   595  1027     1    -26.6 ...   6.223  1319   4.14190111   8.24018750\n",
       "9.482405  4670  1076     1     36.7 ...   5.953   840   2.57854167  -5.24852111\n",
       "9.495979   606  1511     1     63.6 ...   6.860  2695   8.54483167  10.29955278\n",
       "9.690924   599  1372     1     35.9 ...   6.083  2235   7.08347167  10.19033111"
      ]
     },
     "execution_count": 4,
     "metadata": {},
     "output_type": "execute_result"
    }
   ],
   "source": [
    "t=result[0]\n",
    "\n",
    "mask = t['VTmag'] < 7  # Makes a boolean selection mask (numpy array) and gets only stars brighter than mag 7\n",
    "t_new = t[mask]\n",
    "t_new\n",
    "\n",
    "# Select individual stars\n",
    "#t_new[t_new['HIP'] == 27913]\n",
    "\n"
   ]
  }
 ],
 "metadata": {
  "kernelspec": {
   "display_name": "Python 3",
   "language": "python",
   "name": "python3"
  },
  "language_info": {
   "codemirror_mode": {
    "name": "ipython",
    "version": 3
   },
   "file_extension": ".py",
   "mimetype": "text/x-python",
   "name": "python",
   "nbconvert_exporter": "python",
   "pygments_lexer": "ipython3",
   "version": "3.7.4"
  }
 },
 "nbformat": 4,
 "nbformat_minor": 2
}
